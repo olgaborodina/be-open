{
 "cells": [
  {
   "cell_type": "code",
   "execution_count": 1,
   "id": "10300f2d",
   "metadata": {},
   "outputs": [],
   "source": [
    "import numpy as np\n",
    "import pandas as pd\n",
    "import scipy as scp"
   ]
  },
  {
   "cell_type": "markdown",
   "id": "ce682a19",
   "metadata": {},
   "source": [
    "## data import"
   ]
  },
  {
   "cell_type": "code",
   "execution_count": null,
   "id": "491f38d8",
   "metadata": {},
   "outputs": [],
   "source": [
    "from astroquery.vizier import Vizier\n",
    "\n",
    "\n",
    "VizOC = Vizier(catalog=\"J/A+A/659/A59/table2\")\n",
    "VizOC.ROW_LIMIT = -1\n",
    "\n",
    "cluster = \"Blanco_1\"\n",
    "OC_df = VizOC.query_constraints(Cluster=cluster).values()[0].to_pandas()"
   ]
  },
  {
   "cell_type": "markdown",
   "id": "9bee2e73",
   "metadata": {},
   "source": [
    "## building density profile"
   ]
  },
  {
   "cell_type": "code",
   "execution_count": null,
   "id": "e0fa9034",
   "metadata": {},
   "outputs": [],
   "source": []
  },
  {
   "cell_type": "markdown",
   "id": "b52c41c6",
   "metadata": {},
   "source": [
    "## fit different functions"
   ]
  },
  {
   "cell_type": "code",
   "execution_count": null,
   "id": "ab6d7c59",
   "metadata": {},
   "outputs": [],
   "source": []
  },
  {
   "cell_type": "markdown",
   "id": "8ae1307d",
   "metadata": {},
   "source": [
    "## compare models"
   ]
  },
  {
   "cell_type": "code",
   "execution_count": null,
   "id": "9f594d13",
   "metadata": {},
   "outputs": [],
   "source": []
  },
  {
   "cell_type": "markdown",
   "id": "b6b28f0f",
   "metadata": {},
   "source": [
    "## HOORAY!!!"
   ]
  }
 ],
 "metadata": {
  "kernelspec": {
   "display_name": "Python 3 (ipykernel)",
   "language": "python",
   "name": "python3"
  },
  "language_info": {
   "codemirror_mode": {
    "name": "ipython",
    "version": 3
   },
   "file_extension": ".py",
   "mimetype": "text/x-python",
   "name": "python",
   "nbconvert_exporter": "python",
   "pygments_lexer": "ipython3",
   "version": "3.9.12"
  }
 },
 "nbformat": 4,
 "nbformat_minor": 5
}
