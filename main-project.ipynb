{
 "cells": [
  {
   "cell_type": "code",
   "execution_count": 7,
   "id": "10300f2d",
   "metadata": {},
   "outputs": [],
   "source": [
    "import numpy as np\n",
    "import pandas as pd\n",
    "import scipy as scp"
   ]
  },
  {
   "cell_type": "markdown",
   "id": "ce682a19",
   "metadata": {},
   "source": [
    "## data import"
   ]
  },
  {
   "cell_type": "code",
   "execution_count": 23,
   "id": "491f38d8",
   "metadata": {},
   "outputs": [
    {
     "name": "stdout",
     "output_type": "stream",
     "text": [
      "0    0.719918\n",
      "Name: RA_ICRS, dtype: float64 0   -30.115541\n",
      "Name: DE_ICRS, dtype: float64\n",
      "(529, 3)\n"
     ]
    },
    {
     "data": {
      "text/plain": [
       "array([ 8.14113140e+00,  2.29321029e+00,  5.10084919e+01,  3.51384890e+01,\n",
       "       -1.05750638e+00,  2.27864648e+01,  3.21045880e+01,  3.18827435e+01,\n",
       "        3.26412806e+01,  3.36318654e+01,  2.79234382e+01,  1.86718227e+01,\n",
       "        2.79862419e+01,  8.01336140e+00,  6.25903432e+00,  5.72915585e+00,\n",
       "        2.37841742e+01,  1.21892969e+01,  1.04464780e+01, -5.41216714e+01,\n",
       "        6.37516571e+01,  5.03074100e+01,  5.43803096e+01,  4.76289552e+01,\n",
       "        4.44474488e+01,  2.98403082e+01,  4.08522686e+01,  2.46982420e+01,\n",
       "        1.34950798e+01,  6.48718254e+01,  9.27941516e+00,  6.75102223e+01,\n",
       "        2.50825761e+01,  1.18258433e+02,  1.18274037e+02,  1.21333601e+02,\n",
       "        6.80807533e+01,  6.56985393e+01,  6.74753345e+01,  5.62836495e+01,\n",
       "        1.61587228e+01,  1.94403301e+01,  2.07002678e+01,  1.28360789e+01,\n",
       "        1.94124733e+01,  6.92319405e+01,  1.03946661e+01,  1.18768514e+01,\n",
       "        3.10777900e+00,  1.43446668e+01,  2.21125119e+00, -9.35560795e+00,\n",
       "       -9.57012742e+00,  9.87439218e+01,  8.04777175e+01,  8.02821753e+01,\n",
       "        7.86539742e+01,  7.87901875e+01,  7.38155879e+01,  6.70794467e+01,\n",
       "        1.48802294e+01,  6.85011886e+00,  6.15583284e+01, -3.67703627e-01,\n",
       "        6.27351618e+01,  5.67699393e+01,  7.09695972e+01,  5.73116587e+01,\n",
       "        6.09035190e+01,  1.06051397e+02,  8.21028274e+01,  9.96655134e+01,\n",
       "        9.04929537e+01,  9.10461754e+01,  7.06854827e+01,  7.75099624e+01,\n",
       "        5.50362963e+01,  5.34086167e+01,  5.36858868e+01,  5.96252416e+01,\n",
       "        5.75773680e+01,  4.77487695e+01,  4.11063066e+01,  4.76522333e+01,\n",
       "        5.54426822e+01, -1.46037266e+01,  5.54695723e+01,  5.14059529e+01,\n",
       "        3.95171551e+01,  2.00538908e-01,  4.27368802e+01,  4.46204695e+01,\n",
       "        4.10501288e+01,  7.09077878e+01,  5.05543751e+01,  1.06317888e+02,\n",
       "        1.31728335e+02, -3.23369166e+01, -2.69067364e+01, -3.61236878e+01,\n",
       "       -2.93307754e+01, -4.88068803e+01, -2.15307947e+02, -1.86174280e+01,\n",
       "       -5.03466587e+00, -1.23157690e+01, -2.05807883e+01, -1.70011397e+01,\n",
       "       -1.87682119e+01, -1.18737169e+01, -3.05795269e+00, -2.08759502e-01,\n",
       "        1.53941767e-01, -1.58346614e+00,  2.40039436e+00,  4.56717475e+00,\n",
       "        2.39947153e+00, -1.76798588e+00,  5.74565834e-01,  3.26452291e+01,\n",
       "       -3.84900103e+00,  2.05594678e+00,  1.24611839e+01,  5.82896854e+00,\n",
       "        1.47801073e+01, -1.07937006e+02,  1.28922530e+02,  9.50207366e+01,\n",
       "        1.24311440e+02,  1.19516185e+02,  1.20805983e+02, -1.18835211e+02,\n",
       "        2.18379822e+02, -5.10482043e+01,  7.99965726e+01,  4.39004139e+01,\n",
       "        1.02873881e+02,  1.38437008e+02,  1.04633471e+02,  2.08896902e+02,\n",
       "        2.13356301e+02,  1.36839118e+02,  1.65624441e+02,  5.66029228e+01,\n",
       "       -1.66643455e+02, -1.24967875e+02,  2.03554055e+02,  6.47039516e+01,\n",
       "       -2.31569391e+02, -1.01551004e+02,  4.11259363e+01,  1.45979088e+02,\n",
       "        2.09389236e+02,  1.26072000e+02, -1.92212217e+02,  5.71804551e+01,\n",
       "       -1.41054417e+02,  5.56690711e+01,  9.35014942e+01, -2.05931744e+02,\n",
       "       -9.94109174e+01, -3.57835930e-01, -1.34319751e+01, -1.19667869e+02,\n",
       "        1.87034281e+01, -5.13130463e+01, -1.43430727e+02, -5.76812446e+01,\n",
       "       -1.25281373e+02, -1.63123879e+02, -1.94107855e+02, -2.36832913e+02,\n",
       "       -1.79512900e+02, -1.70516104e+02, -5.61823965e+01,  1.66086963e+02,\n",
       "       -2.02608445e+02, -2.01854539e+02, -1.88247030e+02, -1.96947565e+02,\n",
       "        2.00638951e+01, -1.59432813e+02, -1.36548614e+02,  3.01050662e+01,\n",
       "        2.12191926e+02,  8.84834198e+01, -1.03727821e+02,  1.46987771e+02,\n",
       "        1.94714961e+02,  9.06929188e+01,  4.29130911e+01, -7.23260915e+01,\n",
       "        1.55873684e+02,  2.62341169e+00, -1.01376155e+02, -1.15358008e+02,\n",
       "       -2.16497038e+02, -2.16474808e+02, -5.25057638e+01, -1.27216218e+02,\n",
       "       -2.27931101e+02,  7.98269576e+01,  1.14314532e+01,  2.76433300e+01,\n",
       "        2.77091391e+01, -2.07535012e+02,  5.32775256e+01,  3.61107291e+01,\n",
       "       -1.17564410e+01, -8.40281475e+00,  1.24582005e+02,  1.23523372e+02,\n",
       "        1.25433651e+02,  1.35230042e+02,  1.61615647e+02,  1.86531905e+02,\n",
       "        1.54697401e+02,  1.48554337e+02,  1.68377376e+02,  1.66531767e+02,\n",
       "        1.88050688e+02, -7.67038891e+00,  1.98241026e+02,  1.35368296e+02,\n",
       "       -1.49704331e+01, -2.18520655e+01, -2.05604314e+01, -3.14217824e+01,\n",
       "       -4.03110766e+01, -3.29977350e+01, -1.74629059e-01,  6.43439803e+00,\n",
       "       -6.67878581e+01,  2.16693585e+01,  2.87681506e+01,  1.55004697e+00,\n",
       "        5.83121000e+01, -8.71717295e+00, -2.54726057e+01, -1.50937086e+01,\n",
       "        9.76009295e+01,  1.95669117e+02, -5.28173203e+01,  2.25775202e+02,\n",
       "        1.49242960e+01,  2.10509776e+01, -1.63106448e+01,  3.00638701e+00,\n",
       "        1.52466361e+01, -1.56550780e+02, -6.82879729e+01,  3.23472537e+01,\n",
       "       -1.43696299e+02, -1.47897792e+02, -2.00703360e+02, -2.00743363e+02,\n",
       "       -2.02794475e+00, -1.80076649e+02, -2.08041588e+01,  1.39325643e+01,\n",
       "        9.64091608e+00,  8.37525878e+00,  3.78390699e+00,  1.29530324e+02,\n",
       "       -8.11888815e+01, -8.80025837e+01,  1.72529389e+02,  2.21076333e+02,\n",
       "       -5.71566561e+01, -5.67758819e+01,  1.02981181e+02,  2.20774014e+02,\n",
       "        2.00765133e+02,  1.97710004e+02, -6.64404357e+01, -8.68695408e+01,\n",
       "        1.58463381e+02,  2.99941437e+01,  2.70149015e+01,  1.23197591e+02,\n",
       "       -1.35096951e+01,  2.83096361e+01, -3.97615399e+00,  6.55838557e+01,\n",
       "        1.15526135e+02, -5.47702495e+01, -3.02292441e+01, -2.91289386e+01,\n",
       "       -3.68904420e+00, -5.44009364e+01, -7.29918415e+00, -4.07344676e+00,\n",
       "       -1.11490983e+01, -3.03566590e+01,  1.23708385e+01,  1.12490096e+01,\n",
       "       -4.94336871e+00, -3.54977499e+00, -2.92376067e+00,  6.35848208e+00,\n",
       "        1.44352056e+00, -5.53080083e+00, -1.10719983e+01, -1.25548711e+01,\n",
       "       -1.67920049e+01, -2.14589938e+01, -3.00257950e+01, -1.86781460e+01,\n",
       "       -2.23597955e+01, -1.92251842e+01, -1.92412071e+01,  3.17026454e+01,\n",
       "        2.00339394e+02, -2.55791085e+01, -3.07808631e+01,  5.81608114e+01,\n",
       "       -1.42222676e+01, -3.70286651e+01, -4.19134947e+01,  1.77171029e+00,\n",
       "       -7.07429421e-01,  7.60281416e+01, -5.86264271e-01,  1.25948286e+00,\n",
       "        2.10761245e+00,  2.43838361e+00,  3.26104533e+00,  6.38647045e+00,\n",
       "        9.65697211e+00,  1.39300850e+01, -2.19570160e+00, -5.50498700e+00,\n",
       "        1.29293148e+01,  1.98461866e+01,  3.34323329e+01,  9.52219689e+01,\n",
       "        1.27324814e+02,  1.69881109e+02,  3.53369434e+01,  7.56486194e+00,\n",
       "        6.27952806e+00,  1.84307525e+01,  2.32149540e+01,  4.50082750e+01,\n",
       "        1.40439091e+02,  6.78056764e+01, -2.47895943e+01, -3.05103715e+01,\n",
       "       -3.27993360e+01,  3.05065504e+01,  1.70027649e+01,  4.12941338e-01,\n",
       "        1.06300209e-01,  2.08516336e+01,  2.42111349e+01,  2.78401242e+01,\n",
       "       -2.75264021e+01, -2.94506453e+01, -3.60139112e+01, -4.98818144e+01,\n",
       "       -3.65632009e+01, -5.11533323e+01, -4.88986502e+01, -5.09568634e+01,\n",
       "       -3.16217070e+01,  1.70558648e+02, -4.31367490e+01, -5.48546258e+01,\n",
       "       -4.05328251e+01, -5.15990044e+01, -5.75525025e+01, -6.56550440e+01,\n",
       "       -6.19320417e+01, -7.91123242e+01, -8.57084188e+01, -7.26959866e+01,\n",
       "       -5.02431707e+00,  2.83222681e+01,  1.71025253e+01, -1.51776032e+01,\n",
       "       -1.94534654e+01, -1.80787837e+01, -4.06277098e+01, -3.53501898e+01,\n",
       "       -3.76169814e+01, -3.06423975e+01, -3.80298691e+01, -3.16592633e+01,\n",
       "       -4.08214611e+01, -5.05588663e+01, -5.40172100e+01, -5.57514504e+01,\n",
       "       -5.62567875e+01, -6.97439494e+01, -8.11519390e+01,  3.88960911e+00,\n",
       "       -2.01431567e+01,  2.08372733e+00,  7.48999407e-01, -3.66051509e+00,\n",
       "       -3.69335668e+00, -1.18695822e+01, -3.43395690e+00, -1.35118743e+01,\n",
       "       -1.42057507e+01, -1.44930371e+01, -2.02961564e+01, -2.30546707e+01,\n",
       "       -1.76738967e+01, -2.13137507e+01, -2.39218280e+01, -9.68927341e+00,\n",
       "        1.84280925e+00, -4.27907867e+01, -5.20007255e+01, -6.13666804e+01,\n",
       "        1.82217985e+02, -7.22177693e+01,  6.15829571e+01, -1.36900819e+01,\n",
       "       -1.41839618e+01,  5.32094463e+01,  2.72470182e+01, -1.00083987e+02,\n",
       "       -3.59095724e+01, -4.25680226e+01, -1.64904882e+02,  7.24845970e+00,\n",
       "       -2.11585682e+02, -1.37725941e+02, -1.06181293e+02, -1.23235461e+02,\n",
       "       -1.53102997e+01, -1.00731633e+02, -1.10806347e+02, -9.79634694e+01,\n",
       "       -9.26780731e+01, -1.97318490e+02, -1.50255830e+02, -1.49320012e+02,\n",
       "       -2.16115779e+02, -7.21647342e+00, -2.00272319e+02,  1.64860034e+02,\n",
       "       -8.70998645e+01,  6.52183215e+01,  2.83645800e-02, -1.39618050e+02,\n",
       "       -4.59535064e+01, -1.88083485e+02,  2.38435026e+01, -1.85445793e+02,\n",
       "        2.16381289e+01,  1.16235843e+02,  1.16119543e+02, -2.17232289e+02,\n",
       "        1.07903082e+02,  4.96284056e+00,  1.83902152e+01, -3.91714474e+01,\n",
       "       -3.39175633e+00, -6.94133051e+01, -6.77917032e+01, -4.22497355e+01,\n",
       "        2.38284833e+02,  1.38948455e+02,  6.20863322e+01,  1.05413677e+02,\n",
       "        2.47958985e+01, -1.25106495e+01,  3.07575434e+00, -1.20339446e+02,\n",
       "        8.58826701e+00, -1.96403273e+00,  3.45573579e+01,  1.49482732e+02,\n",
       "        1.91960893e+02, -2.46440104e+01,  1.76776509e+02, -1.58247034e+02,\n",
       "        9.87370416e+00, -1.87405343e+02, -5.66486646e+01,  3.43170475e+01,\n",
       "       -5.55451774e+01, -2.26929756e+02, -1.76276252e+02, -1.75867640e+02,\n",
       "       -7.45530804e+01, -4.95760687e+01, -3.78706947e+01,  7.84838584e+01,\n",
       "        1.12298917e+02, -5.28522278e+01, -6.75863313e+01, -1.14641163e+02,\n",
       "       -1.62502281e+02, -1.03698735e+02, -2.04428581e+02,  1.28644742e+02,\n",
       "        4.85464763e+01,  2.13195647e+01,  2.30127662e+01,  7.60367639e+00,\n",
       "        2.62477697e+00, -1.49293938e+02, -1.45985516e+02, -1.30441493e+02,\n",
       "       -1.20241512e+02, -1.13249591e+02, -8.60788304e+01, -7.88001804e+01,\n",
       "       -9.35680243e+01, -8.09820739e+01, -6.47870372e+00, -6.66160425e+01,\n",
       "       -8.05440690e+01,  1.66470287e+02,  1.06089392e+02, -1.36607192e+00,\n",
       "       -2.41571086e+01, -1.42054326e+02, -1.61328903e+01, -3.46669098e+01,\n",
       "        1.23100123e+01,  1.25969427e+01, -5.06787152e+01, -6.39552340e+01,\n",
       "       -2.28071823e+01])"
      ]
     },
     "execution_count": 23,
     "metadata": {},
     "output_type": "execute_result"
    }
   ],
   "source": [
    "from astroquery.vizier import Vizier\n",
    "\n",
    "\n",
    "VizOC = Vizier(catalog=\"J/A+A/659/A59/table2\")\n",
    "VizOC.ROW_LIMIT = -1\n",
    "\n",
    "cluster = \"Blanco_1\"\n",
    "OC_df = VizOC.query_constraints(Cluster=cluster).values()[0].to_pandas()\n",
    "\n",
    "#Pulling mean cluster parameters from table 1.\n",
    "VizOC_t1 = Vizier(catalog=\"J/A+A/659/A59/table1\")\n",
    "OC_df_t1 = VizOC_t1.query_constraints(Cluster=cluster).values()[0].to_pandas()\n",
    "\n",
    "#Check table 1..\n",
    "print(OC_df_t1['RA_ICRS'], OC_df_t1['DE_ICRS'])\n",
    "\n",
    "#function to convert ICRS ra, dec, distance to heliocentric cartesian coordinates (x,y,z)\n",
    "\n",
    "def radec_to_helio(ra,dec,dist):\n",
    "    \n",
    "    \"\"\"\n",
    "    The cartesian positional coordinates in the ICRS reference frame\n",
    "    caluclated from the galacitc coordinates l,b and distance.kinematics_mock_2\n",
    "    \"\"\"\n",
    "\n",
    "    c = np.cos\n",
    "    s = np.sin\n",
    "    A = np.array([c(dec)*c(ra), c(dec)*s(ra),s(dec)]).T\n",
    "\n",
    "    r = A*dist\n",
    "    print(r.shape)\n",
    "    return r[:,0], r[:,1], r[:,2]\n",
    "\n",
    "x,y,z = radec_to_helio(OC_df['RA_ICRS'], OC_df['DE_ICRS'], OC_df_t1['Dist'][0])\n",
    "x\n"
   ]
  },
  {
   "cell_type": "markdown",
   "id": "9bee2e73",
   "metadata": {},
   "source": [
    "## building density profile"
   ]
  },
  {
   "cell_type": "code",
   "execution_count": 21,
   "id": "e0fa9034",
   "metadata": {},
   "outputs": [
    {
     "data": {
      "text/html": [
       "<div>\n",
       "<style scoped>\n",
       "    .dataframe tbody tr th:only-of-type {\n",
       "        vertical-align: middle;\n",
       "    }\n",
       "\n",
       "    .dataframe tbody tr th {\n",
       "        vertical-align: top;\n",
       "    }\n",
       "\n",
       "    .dataframe thead th {\n",
       "        text-align: right;\n",
       "    }\n",
       "</style>\n",
       "<table border=\"1\" class=\"dataframe\">\n",
       "  <thead>\n",
       "    <tr style=\"text-align: right;\">\n",
       "      <th></th>\n",
       "      <th>Cluster</th>\n",
       "      <th>logAgeNN</th>\n",
       "      <th>Dist</th>\n",
       "      <th>Nstars</th>\n",
       "      <th>RA_ICRS</th>\n",
       "      <th>DE_ICRS</th>\n",
       "      <th>pmRA</th>\n",
       "      <th>s_pmRA</th>\n",
       "      <th>pmDE</th>\n",
       "      <th>s_pmDE</th>\n",
       "      <th>...</th>\n",
       "      <th>aHalo</th>\n",
       "      <th>e_aHalo</th>\n",
       "      <th>bHalo</th>\n",
       "      <th>e_bHalo</th>\n",
       "      <th>NstarsSeg</th>\n",
       "      <th>lambda10</th>\n",
       "      <th>e_lambda10</th>\n",
       "      <th>SimbadName</th>\n",
       "      <th>_RA.icrs</th>\n",
       "      <th>_DE.icrs</th>\n",
       "    </tr>\n",
       "  </thead>\n",
       "  <tbody>\n",
       "    <tr>\n",
       "      <th>0</th>\n",
       "      <td>Blanco_1</td>\n",
       "      <td>8.03</td>\n",
       "      <td>239.0</td>\n",
       "      <td>512</td>\n",
       "      <td>0.719918</td>\n",
       "      <td>-30.115541</td>\n",
       "      <td>18.722497</td>\n",
       "      <td>0.30251</td>\n",
       "      <td>2.567345</td>\n",
       "      <td>0.265266</td>\n",
       "      <td>...</td>\n",
       "      <td>24.157332</td>\n",
       "      <td>0.000005</td>\n",
       "      <td>20.84285</td>\n",
       "      <td>0.000203</td>\n",
       "      <td>2</td>\n",
       "      <td>1.552835</td>\n",
       "      <td>0.536714</td>\n",
       "      <td>Cl Blanco 1</td>\n",
       "      <td>0.719822</td>\n",
       "      <td>-30.115552</td>\n",
       "    </tr>\n",
       "  </tbody>\n",
       "</table>\n",
       "<p>1 rows × 58 columns</p>\n",
       "</div>"
      ],
      "text/plain": [
       "    Cluster  logAgeNN   Dist  Nstars   RA_ICRS    DE_ICRS       pmRA   s_pmRA  \\\n",
       "0  Blanco_1      8.03  239.0     512  0.719918 -30.115541  18.722497  0.30251   \n",
       "\n",
       "       pmDE    s_pmDE  ...      aHalo   e_aHalo     bHalo   e_bHalo  \\\n",
       "0  2.567345  0.265266  ...  24.157332  0.000005  20.84285  0.000203   \n",
       "\n",
       "   NstarsSeg  lambda10  e_lambda10   SimbadName  _RA.icrs   _DE.icrs  \n",
       "0          2  1.552835    0.536714  Cl Blanco 1  0.719822 -30.115552  \n",
       "\n",
       "[1 rows x 58 columns]"
      ]
     },
     "execution_count": 21,
     "metadata": {},
     "output_type": "execute_result"
    }
   ],
   "source": [
    "OC_df_t1"
   ]
  },
  {
   "cell_type": "markdown",
   "id": "b52c41c6",
   "metadata": {},
   "source": [
    "## fit different functions"
   ]
  },
  {
   "cell_type": "code",
   "execution_count": 84,
   "id": "ab6d7c59",
   "metadata": {},
   "outputs": [
    {
     "name": "stdout",
     "output_type": "stream",
     "text": [
      "48.70591467683875\n"
     ]
    },
    {
     "data": {
      "image/png": "[encoded data removed]",
      "text/plain": [
       "<Figure size 432x288 with 1 Axes>"
      ]
     },
     "metadata": {
      "needs_background": "light"
     },
     "output_type": "display_data"
    }
   ],
   "source": [
    "import matplotlib.pyplot as plt\n",
    "\n",
    "np.random.seed(123)\n",
    "\n",
    "def radial_profile(r, rho_0=1., a=2):\n",
    "    plummer = rho_0*(1 + r**2/a**2)**-5/2\n",
    "    \n",
    "    return plummer\n",
    "\n",
    "# Choose the \"true\" parameters.\n",
    "rho0_true = 10.0\n",
    "a_true = 2.\n",
    "\n",
    "# Generate some synthetic data from the model.\n",
    "N = 50\n",
    "r = np.linspace(0,15,N)\n",
    "y = radial_profile(r, rho0_true, a_true)\n",
    "\n",
    "#Add gaussian errors to data\n",
    "yerr = y*np.random.normal(size=N)\n",
    "y = y + yerr\n",
    "\n",
    "plt.scatter(r, yerr)\n",
    "x0 = np.linspace(0, 10, 30)\n",
    "plt.plot(r, radial_profile(r, rho0_true, a_true), \"k\", alpha=0.3, lw=3)\n",
    "plt.yscale(\"log\")\n",
    "plt.ylim(1e-6,1e4)\n",
    "plt.xlim(0, 20)\n",
    "plt.xlabel(\"x\")\n",
    "plt.ylabel(\"y\")\n",
    "\n",
    "print(np.random.normal(N))"
   ]
  },
  {
   "cell_type": "markdown",
   "id": "8ae1307d",
   "metadata": {},
   "source": [
    "## compare models"
   ]
  },
  {
   "cell_type": "code",
   "execution_count": 86,
   "id": "5090b9cb",
   "metadata": {},
   "outputs": [
    {
     "name": "stdout",
     "output_type": "stream",
     "text": [
      "[8.20775809 2.04315957] [[ 1.37947009e-29 -6.55469144e-28]\n",
      " [-6.55469144e-28  3.12345575e-26]]\n"
     ]
    }
   ],
   "source": [
    "from scipy.optimize import least_squares\n",
    "\n",
    "def radial_for_fitting(theta,r):\n",
    "    plummer = theta[0]*(1 + r**2/theta[1]**2)**-5/2\n",
    "    return plummer\n",
    "\n",
    "\n",
    "def fun(theta):\n",
    "    return radial_for_fitting(theta, r) - y\n",
    "\n",
    "theta0=[50.,1.5]\n",
    "res = least_squares(fun, theta0)\n",
    "\n",
    "print(res.x, cov)"
   ]
  },
  {
   "cell_type": "code",
   "execution_count": null,
   "id": "9f594d13",
   "metadata": {},
   "outputs": [],
   "source": [
    "def y(theta, t):\n",
    "    return theta[0] / (1 + np.exp(- theta[1] * (t - theta[2])))\n",
    "\n",
    "ts = np.linspace(0, 1)\n",
    "K = 1; r = 10; t0 = 0.5; noise = 0.1\n",
    "ys = y([K, r, t0], ts) + noise * np.random.rand(ts.shape[0])\n",
    "\n",
    "def fun(theta):\n",
    "    return y(theta, ts) - ys\n",
    "\n",
    "theta0 = [1,2,3]\n",
    "res1 = least_squares(fun, theta0)"
   ]
  },
  {
   "cell_type": "markdown",
   "id": "b6b28f0f",
   "metadata": {},
   "source": [
    "## HOORAY!!!"
   ]
  }
 ],
 "metadata": {
  "kernelspec": {
   "display_name": "Python 3 (ipykernel)",
   "language": "python",
   "name": "python3"
  },
  "language_info": {
   "codemirror_mode": {
    "name": "ipython",
    "version": 3
   },
   "file_extension": ".py",
   "mimetype": "text/x-python",
   "name": "python",
   "nbconvert_exporter": "python",
   "pygments_lexer": "ipython3",
   "version": "3.8.10"
  }
 },
 "nbformat": 4,
 "nbformat_minor": 5
}
