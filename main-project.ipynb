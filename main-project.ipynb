{
 "cells": [
  {
   "cell_type": "code",
   "execution_count": null,
   "id": "10300f2d",
   "metadata": {},
   "outputs": [],
   "source": [
    "import numpy as np\n",
    "\n",
    "#database handling\n",
    "import pandas as pd\n",
    "\n",
    "#visualization\n",
    "import seaborn as sns\n",
    "import matplotlib.pyplot as plt\n",
    "%matplotlib inline\n",
    "\n",
    "#scientific calc\n",
    "import astropy\n",
    "from astropy.io.votable import parse\n",
    "from astropy import units as u\n",
    "from astropy.coordinates import SkyCoord\n",
    "\n",
    "import scipy \n",
    "from scipy.optimize import minimize\n",
    "\n",
    "import sympy\n",
    "\n",
    "from RegscorePy import aic, bic"
   ]
  },
  {
   "cell_type": "markdown",
   "id": "ce682a19",
   "metadata": {},
   "source": [
    "## data import"
   ]
  },
  {
   "cell_type": "code",
   "execution_count": null,
   "id": "dc293519",
   "metadata": {},
   "outputs": [],
   "source": [
    "profile='Zhao'"
   ]
  },
  {
   "cell_type": "code",
   "execution_count": null,
   "id": "491f38d8",
   "metadata": {},
   "outputs": [],
   "source": [
    "from astroquery.vizier import Vizier\n",
    "\n",
    "VizOC_table2 = Vizier(catalog=\"J/A+A/659/A59/table2\")\n",
    "VizOC_table1 = Vizier(catalog=\"J/A+A/659/A59/table1\")\n",
    "VizOC_table2.ROW_LIMIT = -1\n",
    "\n",
    "cluster = \"Blanco_1\"\n",
    "OC_df = VizOC_table2.query_constraints(Cluster=cluster).values()[0].to_pandas()\n",
    "OC_tb1_df = VizOC_table1.query_constraints(Cluster=cluster).values()[0].to_pandas()"
   ]
  },
  {
   "cell_type": "markdown",
   "id": "9bee2e73",
   "metadata": {},
   "source": [
    "## building density profile"
   ]
  },
  {
   "cell_type": "code",
   "execution_count": null,
   "id": "e0fa9034",
   "metadata": {},
   "outputs": [],
   "source": [
    "fig, ax = plt.subplots(1, 2, figsize=(12, 6))\n",
    "\n",
    "ax[0].scatter(OC_df['RA_ICRS'], OC_df['DE_ICRS'], label='Blanco_1')\n",
    "ax[1].scatter(OC_df['pmRA'], OC_df['pmDE'], label='Blanco_1')\n",
    "\n",
    "ax[0].set_title('Ra vs Dec')\n",
    "ax[1].set_title('pmra vs pmdec')\n",
    "\n",
    "ax[0].set_xlabel('RA')\n",
    "ax[0].set_ylabel('Dec')\n",
    "\n",
    "ax[1].set_xlabel('pmra')\n",
    "ax[1].set_ylabel('pmdec')"
   ]
  },
  {
   "cell_type": "code",
   "execution_count": null,
   "id": "f12ea18c",
   "metadata": {},
   "outputs": [],
   "source": [
    "#getting and converting cluster members' eq coords to cartesian\n",
    "blanco_1_eq_coords = SkyCoord(ra=OC_df['RA_ICRS'] * u.degree,\n",
    "                              dec=OC_df['DE_ICRS'] * u.degree, \n",
    "                              distance=(1000 / OC_df['plx']) * u.Parcsec, frame='icrs')\n",
    "blanco_1_cart_coords = blanco_1_eq_coords.cartesian.x, blanco_1_eq_coords.cartesian.y, blanco_1_eq_coords.cartesian.z\n",
    "\n",
    "\n",
    "#getting and converting the center coords \n",
    "blanco_1_eq_center_coords = SkyCoord(ra=OC_tb1_df['RA_ICRS'] * u.degree, \n",
    "                                     dec=OC_tb1_df['DE_ICRS'] * u.degree, \n",
    "                                     distance=(1000/OC_tb1_df['plx']) * u.Parcsec, frame='icrs')\n",
    "blanco_1_cart_center_coords = blanco_1_eq_center_coords.cartesian.x, blanco_1_eq_center_coords.cartesian.y, blanco_1_eq_center_coords.cartesian.z\n",
    "\n",
    "#getting the distance of stars from the center of clusters\n",
    "def calc_dist(x1, y1, x2, y2):\n",
    "    return ((x2 - x1) ** 2 + (y2 - y1) ** 2) ** 0.5\n",
    "\n",
    "d = calc_dist(blanco_1_cart_center_coords[0], blanco_1_cart_center_coords[1],\n",
    "         blanco_1_cart_coords[0], blanco_1_cart_coords[1])"
   ]
  },
  {
   "cell_type": "code",
   "execution_count": null,
   "id": "1e62d906",
   "metadata": {},
   "outputs": [],
   "source": [
    "#plotting the cluster with radius regions\n",
    "plt.figure(figsize=(8, 8))\n",
    "plt.scatter(blanco_1_cart_coords[0], blanco_1_cart_coords[1], label='Data', s=10, alpha=0.5, edgecolors='k')\n",
    "plt.scatter(blanco_1_cart_center_coords[0], blanco_1_cart_center_coords[1], label='Center', marker='x', s=10)\n",
    "\n",
    "ax = plt.gca()\n",
    "c_max = plt.Circle((blanco_1_cart_center_coords[0].value,blanco_1_cart_center_coords[1].value), radius=np.max(d.value),\n",
    "                    edgecolor='k',linestyle='-.', fill=False, label='max_dist')\n",
    "c_mean = plt.Circle((blanco_1_cart_center_coords[0].value,blanco_1_cart_center_coords[1].value), radius=np.mean(d.value),\n",
    "                    edgecolor='gray', linestyle='--', fill=False, label='mean_dist')\n",
    "ax.add_artist(c_mean)\n",
    "ax.add_artist(c_max)\n",
    "\n",
    "\n",
    "plt.xlabel('x [pc]')\n",
    "plt.ylabel('y [pc]')\n",
    "plt.title('Cartesian Plot')\n",
    "plt.legend(loc=[1.01, 0.86])\n",
    "plt.grid()"
   ]
  },
  {
   "cell_type": "code",
   "execution_count": null,
   "id": "004a3e6e",
   "metadata": {},
   "outputs": [],
   "source": [
    "fig = plt.figure()\n",
    "ax = plt.axes(projection='3d')\n",
    "\n",
    "ax.scatter3D(blanco_1_cart_coords[0], blanco_1_cart_coords[1], blanco_1_cart_coords[2], \n",
    "c=blanco_1_cart_coords[2], cmap='viridis')\n",
    "ax.scatter3D(blanco_1_cart_center_coords[0], blanco_1_cart_center_coords[1], blanco_1_cart_center_coords[2])\n",
    "\n",
    "ax.set_xlabel('x [pc]')\n",
    "ax.set_ylabel('y [pc]')\n",
    "ax.set_zlabel('z [pc]')"
   ]
  },
  {
   "cell_type": "markdown",
   "id": "b52c41c6",
   "metadata": {},
   "source": [
    "## fit different functions"
   ]
  },
  {
   "cell_type": "code",
   "execution_count": null,
   "id": "9d1b3f8c",
   "metadata": {},
   "outputs": [],
   "source": [
    "#the profile functions\n",
    "\n",
    "def King_profile(r, rho_0, r_c, r_t):\n",
    "    rho_k = rho_0 * (((1 + (r / r_c) ** 2) ** -0.5 - (1 + (r_t / r_c) ** 2) ** -0.5) ** 2)\n",
    "    mask = r > r_t\n",
    "    rho_k[mask] = 0\n",
    "    return rho_k\n",
    "\n",
    "def Plummer_profile(r, rho_0, a):\n",
    "    rho_P = rho_0 * ((1 + (r * r / a / a)) ** -2.5)\n",
    "    return rho_P\n",
    "\n",
    "def Zhao_profile(r, rho_0, a, gamma):\n",
    "    rho = rho_0 * ((r / a) ** -gamma) * ((1 + (r / a) ** 2) ** ((gamma - 4.5) / 2))\n",
    "    return rho"
   ]
  },
  {
   "cell_type": "markdown",
   "id": "6dc46c92",
   "metadata": {},
   "source": [
    "## CDF"
   ]
  },
  {
   "cell_type": "code",
   "execution_count": null,
   "id": "9c2ad22b",
   "metadata": {},
   "outputs": [],
   "source": [
    "CDF_x = np.sort(d.value)\n",
    "x_axis = np.linspace(3e-2, CDF_x.max(), 1001)\n",
    "CDF = np.arange(1, len(d) + 1) / len(d)  #normalised CDF"
   ]
  },
  {
   "cell_type": "markdown",
   "id": "c443d847",
   "metadata": {},
   "source": [
    "## error in CDF calculation (MC error propagation)"
   ]
  },
  {
   "cell_type": "code",
   "execution_count": null,
   "id": "87a51ee1",
   "metadata": {
    "scrolled": true
   },
   "outputs": [],
   "source": [
    "d_d = lambda plx, eplx: (1000) * ((1 / plx) ** 2. * (eplx))\n",
    "np.random.seed(None)\n",
    "#distance to stars in pc \n",
    "dist = 1000 / OC_df['plx']\n",
    "#distance errors\n",
    "dist_err = d_d(OC_df['plx'], OC_df['e_plx'])\n",
    "\n",
    "#number of realisations of the CDF\n",
    "N = 100\n",
    "\n",
    "CDF_many = np.zeros((len(OC_df['RA_ICRS']), N))\n",
    "CDF_x_many = np.zeros((len(OC_df['RA_ICRS']), N))\n",
    "\n",
    "\n",
    "#Setting defaults for centre at function definition\n",
    "def make_a_CDF(ra, dec, distance, era, edec, edist, centra, centdec,\n",
    "               centdist, ecentdist):\n",
    "    dist_draw = []\n",
    "    ra_draw   = []\n",
    "    dec_draw  = []\n",
    "    #Uncomment code to include error in cluster centre\n",
    "    #centra_draw = [] \n",
    "    #centdec_draw = []\n",
    "    \n",
    "    centdist_draw = []\n",
    "    for i in range(len(ra)):\n",
    "        dist_draw.append(np.random.normal(distance[i], edist[i], size=1)[0])\n",
    "        ra_draw.append(np.random.normal(ra[i], era[i], size=1)[0])\n",
    "        dec_draw.append(np.random.normal(dec[i], edec[i], size=1)[0])\n",
    "\n",
    "        #Uncomment to include error in cluster\n",
    "        #centra_draw.append(np.random.normal(centra, ecentra, size=1)[0])\n",
    "        #centdec_draw.append(np.random.normal(centdec, ecentdec, size=1)[0])\n",
    "        #centdist_draw.append(np.random.normal(centdist, ecentdist, size=1)[0])\n",
    "\n",
    "\n",
    "    try1= SkyCoord(ra=ra_draw * u.degree, dec=dec_draw * u.degree, distance=dist_draw * u.Parcsec, frame='icrs')\n",
    "    try1 = try1.cartesian.x, try1.cartesian.y, try1.cartesian.z\n",
    "    tryc1= SkyCoord(ra=centra * u.degree, dec=centdec * u.degree, distance=centdist * u.Parcsec, frame='icrs')\n",
    "    tryc1 = tryc1.cartesian.x, tryc1.cartesian.y, tryc1.cartesian.z\n",
    "\n",
    "\n",
    "\n",
    "    dtry1 = calc_dist(tryc1[0], tryc1[1], try1[0], try1[1])\n",
    "\n",
    "    CDF_x_try1 = np.sort(dtry1.value)\n",
    "    CDFtry1 = np.arange(1, len(dtry1) + 1) / len(dtry1)  #normalised CDF\n",
    "    \n",
    "    return CDF_x_try1, CDFtry1\n",
    "\n",
    "\n",
    "CDF_err = []\n",
    "\n",
    "#Loop over the number of realisations we want to create\n",
    "for i in range(N):\n",
    "    CDF_x_many[:, i], CDF_many[:, i] = make_a_CDF(OC_df['RA_ICRS'], OC_df['DE_ICRS'], dist, \n",
    "                                        OC_df['e_RA_ICRS'], OC_df['e_DE_ICRS'], dist_err,\n",
    "                                        OC_tb1_df['RA_ICRS'], OC_tb1_df['DE_ICRS'],\n",
    "                                        1000 / OC_tb1_df['plx'], d_d(OC_tb1_df['plx'], OC_tb1_df['s_plx']))\n",
    "    \n",
    "#Uncomment to plot realisations.\n",
    "#     plt.plot(CDF_x_many[:,i], CDF_many[:,i], alpha=0.05, c=\"red\")\n",
    "    \n",
    "# for each data point compute the standard devation of all the realisations at that value of x\n",
    "for k in range(N):\n",
    "        \n",
    "    CDF_interp_func = scipy.interpolate.interp1d(CDF_x_many[:,k], CDF_many[:,k], fill_value=\"extrapolate\")\n",
    "    CDF_err.append(CDF_interp_func(x_axis))\n",
    "            \n",
    "actual_errors = np.std(np.array(CDF_err), axis=0)\n"
   ]
  },
  {
   "cell_type": "markdown",
   "id": "97ae4f71",
   "metadata": {},
   "source": [
    "## Symbolic CDF"
   ]
  },
  {
   "cell_type": "markdown",
   "id": "8e471716",
   "metadata": {},
   "source": [
    "$$\n",
    "\\log{likelihood} = -0.5 * \\left( \\frac{(expected - observed)^2}{\\sigma^2} + \\log{\\sigma^2} \\right)\n",
    "$$"
   ]
  },
  {
   "cell_type": "code",
   "execution_count": null,
   "id": "c399d621",
   "metadata": {},
   "outputs": [],
   "source": [
    "def pdf2cdf(r, profile='King', *args):\n",
    "    \n",
    "    if profile=='King':\n",
    "    #getting the cdf from the pdf\n",
    "        pdf = King_profile(r, *args)                 #defining the pdf\n",
    "        \n",
    "    elif profile=='Plummer':\n",
    "        pdf = Plummer_profile(r, *args)                 \n",
    "\n",
    "    elif profile=='Zhao':\n",
    "        pdf = Zhao_profile(r, *args)             \n",
    "       \n",
    "    else:\n",
    "        print('Please choose a profile between King, Plummer or Zhao')\n",
    "    \n",
    "    return np.cumsum(pdf) / (np.cumsum(pdf).max()+1e-8)\n",
    "\n",
    "def log_likelihood(theta,x,y,y_err,profile):\n",
    "    model = pdf2cdf(x, profile, *theta)\n",
    "    sigma2 = y_err ** 2\n",
    "    return -0.5 * np.sum((y - model) ** 2 / sigma2 + np.log(sigma2)) #neg. chi-sq. + nuisance param\n",
    "\n",
    "def mle(init_guess,x,y,y_err,profile='King',print_solution=False):\n",
    "    if profile == 'King':\n",
    "        bounds = np.array([[0, 0, 10], [1, 10, np.inf]]).T\n",
    "    elif profile == 'Plummer':\n",
    "        bounds = np.array([[0, 0], [np.inf, np.inf]]).T\n",
    "    elif profile == 'Zhao':\n",
    "        bounds = np.array([[0, 0, 0], [np.inf, np.inf, np.inf]]).T\n",
    "                         \n",
    "    #getting the args for minimise function\n",
    "    nll = lambda *args: -log_likelihood(*args)\n",
    "    \n",
    "    #finding solution by minimise alogorithm\n",
    "    soln = minimize(nll, init_guess, bounds=bounds\n",
    "                    , args=(x, y, y_err, profile)) #args = (x,y,yerr,cdf_function)\n",
    "\n",
    "    profiles_dict = {\n",
    "        'King':['rho_0', 'r_c', 'r_t'],\n",
    "        'Plummer': ['rho_0', 'a'],\n",
    "        'Zhao':['rho_0', 'a', 'gamma'],\n",
    "    }\n",
    "\n",
    "    if print_solution==True:\n",
    "        \n",
    "        print('-' * 30)\n",
    "        print('Message: ',soln.message)\n",
    "        print('nhev: ',soln.nfev)\n",
    "        print('nit: ',soln.nit)\n",
    "        print('njev: ',soln.njev)\n",
    "        print('status: ',soln.status)\n",
    "        print('success: ',soln.success)\n",
    "        print('-' * 30)\n",
    "\n",
    "        print(\"Maximum likelihood estimates:\")  \n",
    "\n",
    "        for i in range(0, len(profiles_dict[profile])):\n",
    "            print(f\"{profiles_dict[profile][i]} = {soln.x[i]:.3f}\")\n",
    "\n",
    "        print('-' * 30)\n",
    "\n",
    "    else: \n",
    "        pass\n",
    "\n",
    "    return soln"
   ]
  },
  {
   "cell_type": "code",
   "execution_count": null,
   "id": "3bd39229",
   "metadata": {},
   "outputs": [],
   "source": [
    "#err array \n",
    "np.random.seed(42)\n",
    "yerr  = np.array(actual_errors) #np.random.normal(size=len(CDF)) / 1e10\n",
    "\n",
    "if profile == 'King':\n",
    "    init = np.array([0.01, np.mean(d.value), 5 * np.mean(d.value)]) #rho_0, r_c, r_t\n",
    "elif profile == 'Plummer':\n",
    "    init = np.array([0.01, np.mean(d.value)]) #rho_0, r_c, r_t\n",
    "elif profile == 'Zhao':\n",
    "    init = np.array([0.01, np.mean(d.value), 2]) #rho_0, r_c, r_t\n",
    "    \n",
    "CDF_interp_func = scipy.interpolate.interp1d(CDF_x,CDF, fill_value=\"extrapolate\")\n",
    "\n",
    "#finding solution by minimise alogorithm\n",
    "soln = mle(init_guess=init,\n",
    "            x=x_axis,\n",
    "            y=CDF_interp_func(x_axis),\n",
    "            y_err = yerr,\n",
    "            profile=profile,\n",
    "            print_solution=True)\n",
    "\n",
    "plt.plot(x_axis, pdf2cdf(x_axis, profile, *soln.x), \"k\", alpha=0.3, lw=3, label=\"fit\")\n",
    "plt.plot(x_axis, CDF_interp_func(x_axis), label='data')\n",
    "plt.legend(fontsize=14)\n",
    "plt.xlabel(\"x\")\n",
    "plt.ylabel(\"y\")"
   ]
  },
  {
   "cell_type": "markdown",
   "id": "8ae1307d",
   "metadata": {},
   "source": [
    "## compare models"
   ]
  },
  {
   "cell_type": "code",
   "execution_count": null,
   "id": "99d8feb6",
   "metadata": {},
   "outputs": [],
   "source": [
    "aic.aic(CDF_interp_func(x_axis), pdf2cdf(x_axis, profile, *soln.x), len(init))"
   ]
  },
  {
   "cell_type": "markdown",
   "id": "b6b28f0f",
   "metadata": {},
   "source": [
    "## HOORAY!!!"
   ]
  }
 ],
 "metadata": {
  "kernelspec": {
   "display_name": "Python 3",
   "language": "python",
   "name": "python3"
  },
  "language_info": {
   "codemirror_mode": {
    "name": "ipython",
    "version": 3
   },
   "file_extension": ".py",
   "mimetype": "text/x-python",
   "name": "python",
   "nbconvert_exporter": "python",
   "pygments_lexer": "ipython3",
   "version": "3.9.10"
  },
  "vscode": {
   "interpreter": {
    "hash": "093ac76fe008a03461400c33a77a0d739bc40450ba46632244501e7b1e246682"
   }
  }
 },
 "nbformat": 4,
 "nbformat_minor": 5
}
