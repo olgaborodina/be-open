{
 "cells": [
  {
   "cell_type": "code",
   "execution_count": null,
   "id": "d360f019",
   "metadata": {},
   "outputs": [],
   "source": [
    "import cluster_class as cluster\n",
    "import tqdm\n",
    "import numpy as np\n",
    "import matplotlib.pyplot as plt"
   ]
  },
  {
   "cell_type": "markdown",
   "id": "abdb240c",
   "metadata": {},
   "source": [
    "## run for the single cluster:"
   ]
  },
  {
   "cell_type": "code",
   "execution_count": null,
   "id": "451403fe",
   "metadata": {},
   "outputs": [],
   "source": [
    "example = cluster.cluster('NGC_2516')\n",
    "example.distances()\n",
    "example.CDF()\n",
    "example.fit_profiles(show_plot=True)"
   ]
  },
  {
   "cell_type": "code",
   "execution_count": null,
   "id": "7550ca36",
   "metadata": {},
   "outputs": [],
   "source": [
    "example.criterion"
   ]
  },
  {
   "cell_type": "markdown",
   "id": "ad7ab1c5",
   "metadata": {},
   "source": [
    "## run for the clusters list:"
   ]
  },
  {
   "cell_type": "code",
   "execution_count": null,
   "id": "abfb8d39",
   "metadata": {},
   "outputs": [],
   "source": [
    "from astroquery.vizier import Vizier\n",
    "Viz_OClist= Vizier(catalog=\"J/A+A/659/A59/table1\")\n",
    "Viz_OClist.ROW_LIMIT = -1\n",
    "OC_list = Viz_OClist.query_constraints(Nstars=\">100\").values()[0].to_pandas()\n",
    "OC_names = OC_list['Cluster']"
   ]
  },
  {
   "cell_type": "code",
   "execution_count": null,
   "id": "e9741e9b",
   "metadata": {},
   "outputs": [],
   "source": [
    "best = []\n",
    "for name in tqdm.tqdm(OC_names): # let's find the best fitting function\n",
    "    test = cluster.cluster(name)\n",
    "    test.distances()\n",
    "    test.CDF()\n",
    "    test.fit_profiles()\n",
    "    best.append(min(test.criterion, key=test.criterion.get))"
   ]
  },
  {
   "cell_type": "code",
   "execution_count": null,
   "id": "fb2dc929",
   "metadata": {},
   "outputs": [],
   "source": [
    "sum(np.array(best) == 'King')"
   ]
  }
 ],
 "metadata": {
  "kernelspec": {
   "display_name": "Python 3",
   "language": "python",
   "name": "python3"
  },
  "language_info": {
   "codemirror_mode": {
    "name": "ipython",
    "version": 3
   },
   "file_extension": ".py",
   "mimetype": "text/x-python",
   "name": "python",
   "nbconvert_exporter": "python",
   "pygments_lexer": "ipython3",
   "version": "3.9.10"
  }
 },
 "nbformat": 4,
 "nbformat_minor": 5
}
